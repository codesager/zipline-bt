{
 "cells": [
  {
   "cell_type": "code",
   "execution_count": null,
   "metadata": {},
   "outputs": [],
   "source": [
    "import pandas as pd\n",
    "import numpy as np\n",
    "\n",
    "from zipline import run_algorithm\n",
    "from zipline.pipeline import Pipeline\n",
    "from zipline.pipeline.data import USEquityPricing\n",
    "from zipline.pipeline.factors import AverageDollarVolume, CustomFactor, Returns\n",
    "from zipline.api import (\n",
    "    symbol,\n",
    "    attach_pipeline,\n",
    "    calendars,\n",
    "    pipeline_output,\n",
    "    date_rules,\n",
    "    time_rules,\n",
    "    get_datetime,\n",
    "    set_commission,\n",
    "    set_slippage,\n",
    "    record,\n",
    "    order_target_percent,\n",
    "    get_open_orders,\n",
    "    schedule_function,\n",
    "    set_commission,\n",
    "    set_slippage,\n",
    "    set_benchmark\n",
    ")\n",
    "from zipline.finance import commission, slippage\n",
    "import pyfolio as pf\n",
    "from zipline.data import bundles"
   ]
  },
  {
   "cell_type": "markdown",
   "metadata": {},
   "source": [
    "### Trade Settings"
   ]
  },
  {
   "cell_type": "code",
   "execution_count": null,
   "metadata": {},
   "outputs": [],
   "source": [
    "N_LONGS = N_SHORTS = 50\n",
    "DOLLAR_VOLUME = 500"
   ]
  },
  {
   "cell_type": "code",
   "execution_count": null,
   "metadata": {},
   "outputs": [],
   "source": [
    "import os\n",
    "import dotenv\n",
    "from dotenv  import find_dotenv, load_dotenv\n",
    "load_dotenv(find_dotenv())\n",
    "NASDAQ_API_KEY = os.getenv(\"NASDAQ_KEY\")"
   ]
  },
  {
   "cell_type": "code",
   "execution_count": null,
   "metadata": {},
   "outputs": [],
   "source": [
    "os.environ[\"QUANDL_API_KEY\"] = NASDAQ_API_KEY\n",
    "bundle = \"quandl\"\n",
    "bundles.ingest(bundle)"
   ]
  },
  {
   "cell_type": "code",
   "execution_count": null,
   "metadata": {},
   "outputs": [],
   "source": [
    "class MomentumFactor(CustomFactor):\n",
    "    inputs = [USEquityPricing.close, Returns(window_length=126)]\n",
    "    window_length = 252\n",
    "\n",
    "    def compute(self, today, assets, out, prices, returns):\n",
    "        out[:] = (\n",
    "            (prices[-21] - prices[-252]) / prices[-252]\n",
    "            - (prices[-1] - prices[-21]) / prices[-21]\n",
    "        ) / np.nanstd(returns, axis=0)"
   ]
  },
  {
   "cell_type": "code",
   "execution_count": null,
   "metadata": {},
   "outputs": [],
   "source": [
    "def make_pipeline():\n",
    "    momentum = MomentumFactor()\n",
    "    dollar_volume = AverageDollarVolume(window_length=21)\n",
    "    return Pipeline(\n",
    "        columns={\n",
    "            \"factor\": momentum,\n",
    "            \"longs\": momentum.top(N_LONGS),\n",
    "            \"shorts\": momentum.bottom(N_SHORTS),\n",
    "            \"ranking\": momentum.rank(),\n",
    "        },\n",
    "        screen=dollar_volume.top(DOLLAR_VOLUME),\n",
    "    )"
   ]
  },
  {
   "cell_type": "code",
   "execution_count": null,
   "metadata": {},
   "outputs": [],
   "source": [
    "def before_trading_start(context, data):\n",
    "    context.factor_data = pipeline_output(\"factor_pipeline\")"
   ]
  },
  {
   "cell_type": "code",
   "execution_count": null,
   "metadata": {},
   "outputs": [],
   "source": [
    "def rebalance(context, data):\n",
    "    factor_data = context.factor_data\n",
    "    record(factor_data=factor_data.ranking)\n",
    "\n",
    "    assets = factor_data.index\n",
    "    record(prices=data.current(assets, \"price\"))\n",
    "\n",
    "    longs = assets[factor_data.longs]\n",
    "    shorts = assets[factor_data.shorts]\n",
    "    divest = set(context.portfolio.positions.keys()) - set(longs.union(shorts))\n",
    "    \n",
    "    print(\n",
    "        f\"{get_datetime().date()} Longs: {len(longs)} Shorts: {len(shorts)} Value:{context.portfolio.portfolio_value}\"\n",
    "    )\n",
    "\n",
    "    exec_trades(\n",
    "        data, \n",
    "        assets=divest, \n",
    "        target_percent=0\n",
    "    )\n",
    "    exec_trades(\n",
    "        data, \n",
    "        assets=longs, \n",
    "        target_percent=1 / N_LONGS\n",
    "    )\n",
    "    exec_trades(\n",
    "        data, \n",
    "        assets=shorts, \n",
    "        target_percent=-1 / N_SHORTS\n",
    "    )"
   ]
  },
  {
   "cell_type": "code",
   "execution_count": null,
   "metadata": {},
   "outputs": [],
   "source": [
    "def initialize(context):\n",
    "    attach_pipeline(make_pipeline(), \"factor_pipeline\")\n",
    "    schedule_function(\n",
    "        rebalance,\n",
    "        date_rules.week_start(),\n",
    "        time_rules.market_open(),\n",
    "        calendar=calendars.US_EQUITIES,\n",
    "    )\n",
    "    \n",
    "    # Set up the commission model to charge us per share and a volume slippage model\n",
    "    set_commission(\n",
    "        us_equities=commission.PerShare(\n",
    "            cost=0.005,\n",
    "            min_trade_cost=2.0\n",
    "        )\n",
    "    )\n",
    "    set_slippage(\n",
    "        us_equities=slippage.VolumeShareSlippage(\n",
    "            volume_limit=0.0025, \n",
    "            price_impact=0.01\n",
    "        )\n",
    "    )\n",
    "    # set_benchmark(symbol(\"SPY\"))"
   ]
  },
  {
   "cell_type": "code",
   "execution_count": null,
   "metadata": {},
   "outputs": [],
   "source": [
    "def exec_trades(data, assets, target_percent):\n",
    "    for asset in assets:\n",
    "        if data.can_trade(asset) and not get_open_orders(asset):\n",
    "            order_target_percent(asset, target_percent)"
   ]
  },
  {
   "cell_type": "code",
   "execution_count": null,
   "metadata": {},
   "outputs": [],
   "source": [
    "def analyze(context, perf):\n",
    "    perf.portfolio_value.plot()"
   ]
  },
  {
   "cell_type": "code",
   "execution_count": null,
   "metadata": {},
   "outputs": [],
   "source": [
    "start = pd.Timestamp(\"2016-01-01\")\n",
    "end = pd.Timestamp(\"2017-12-31\")\n",
    "\n",
    "import pandas_datareader.data as web\n",
    "sp500 = web.DataReader('SP500', 'fred', start, end).SP500\n",
    "benchmark_returns = sp500.pct_change()"
   ]
  },
  {
   "cell_type": "code",
   "execution_count": null,
   "metadata": {},
   "outputs": [],
   "source": [
    "perf = run_algorithm(\n",
    "    start=pd.Timestamp(\"2016-01-01\"),\n",
    "    end=pd.Timestamp(\"2017-12-31\"),\n",
    "    initialize=initialize,\n",
    "    before_trading_start=before_trading_start,\n",
    "    capital_base=100_000,\n",
    "    # bundle=\"quotemedia\",\n",
    "    bundle=bundle\n",
    ")"
   ]
  },
  {
   "cell_type": "code",
   "execution_count": null,
   "metadata": {},
   "outputs": [],
   "source": [
    "returns, positions, transactions = pf.utils.extract_rets_pos_txn_from_zipline(perf)"
   ]
  },
  {
   "cell_type": "code",
   "execution_count": null,
   "metadata": {},
   "outputs": [],
   "source": [
    "pf.create_full_tear_sheet(returns, positions, transactions)"
   ]
  }
 ],
 "metadata": {
  "kernelspec": {
   "display_name": "quant-stack",
   "language": "python",
   "name": "python3"
  },
  "language_info": {
   "codemirror_mode": {
    "name": "ipython",
    "version": 3
   },
   "file_extension": ".py",
   "mimetype": "text/x-python",
   "name": "python",
   "nbconvert_exporter": "python",
   "pygments_lexer": "ipython3",
   "version": "3.9.18"
  }
 },
 "nbformat": 4,
 "nbformat_minor": 2
}
