{
 "cells": [
  {
   "cell_type": "markdown",
   "metadata": {},
   "source": [
    "## Volatility Targeting backtesting using zipline"
   ]
  },
  {
   "cell_type": "markdown",
   "metadata": {},
   "source": [
    "* import zipline and other required libraries"
   ]
  },
  {
   "cell_type": "code",
   "execution_count": null,
   "metadata": {},
   "outputs": [],
   "source": [
    "import os\n",
    "import time\n",
    "import threading\n",
    "import numpy as np\n",
    "import pandas as pd\n",
    "from openbb_terminal.sdk import openbb\n",
    "import riskfolio as rp\n",
    "\n",
    "from zipline import run_algorithm\n",
    "from zipline.api import (\n",
    "    symbol,\n",
    "    date_rules,\n",
    "    time_rules,\n",
    "    get_datetime,\n",
    "    schedule_function,\n",
    "    calendars,\n",
    "    get_open_orders,\n",
    "    order_target_percent,\n",
    "    set_commission,\n",
    "    set_slippage,\n",
    "    set_benchmark\n",
    ")\n",
    "from zipline.finance import commission, slippage\n",
    "from zipline.data import bundles\n",
    "from zipline.utils.run_algo import load_extensions\n",
    "from zipline.errors import SymbolNotFound\n",
    "\n",
    "import pyfolio as pf"
   ]
  },
  {
   "cell_type": "markdown",
   "metadata": {},
   "source": [
    "* Setup Quandl to get data"
   ]
  },
  {
   "cell_type": "code",
   "execution_count": null,
   "metadata": {},
   "outputs": [],
   "source": [
    "from dotenv  import find_dotenv, load_dotenv\n",
    "load_dotenv(find_dotenv())\n",
    "NASDAQ_API_KEY = os.getenv(\"NASDAQ_KEY\")"
   ]
  },
  {
   "cell_type": "code",
   "execution_count": null,
   "metadata": {},
   "outputs": [],
   "source": [
    "os.environ[\"QUANDL_API_KEY\"] = NASDAQ_API_KEY\n",
    "bundle = \"quandl\"\n",
    "bundles.ingest(bundle)"
   ]
  },
  {
   "cell_type": "markdown",
   "metadata": {},
   "source": [
    "### Trade Settings"
   ]
  },
  {
   "cell_type": "code",
   "execution_count": null,
   "metadata": {},
   "outputs": [],
   "source": [
    "bar_count = 66 # 22 trading days a month * 3\n",
    "method_mu = \"hist\"\n",
    "method_cov = \"hist\"\n",
    "lower_ret = 0.0008 # risk free return: 0.08 bps"
   ]
  },
  {
   "cell_type": "markdown",
   "metadata": {},
   "source": [
    "#### Stock Screening"
   ]
  },
  {
   "cell_type": "code",
   "execution_count": null,
   "metadata": {},
   "outputs": [],
   "source": [
    "new_highs = openbb.stocks.screener.screener_data(\"new_high\")\n",
    "port_data = new_highs[\n",
    "    (new_highs.Price > 15) &\n",
    "    (new_highs.Country == \"USA\")\n",
    "]"
   ]
  },
  {
   "cell_type": "markdown",
   "metadata": {},
   "source": [
    "### Initiailize backtest"
   ]
  },
  {
   "cell_type": "code",
   "execution_count": null,
   "metadata": {},
   "outputs": [],
   "source": [
    "def initialize(context):\n",
    "    # from portdata above, get the list of tickers and check if ticker exists in ingested qandl data\n",
    "    tickers = port_data.Ticker.tolist()\n",
    "    \n",
    "    context.assets = []\n",
    "    for ticker in tickers:\n",
    "        try:\n",
    "            context.assets.append(symbol(ticker))\n",
    "        except SymbolNotFound:\n",
    "            print(f\"{ticker} not found in {bundle} bundle. Skipping...\")\n",
    "    \n",
    "    schedule_function(\n",
    "        rebalance,\n",
    "        date_rules.week_start(),\n",
    "        time_rules.market_open(),\n",
    "        calendar=calendars.US_EQUITIES,\n",
    "    )\n",
    "\n",
    "    # Set up the commission model to charge us per share and a volume slippage model\n",
    "    set_commission(\n",
    "        us_equities=commission.PerShare(\n",
    "            cost=0.005,\n",
    "            min_trade_cost=2.0\n",
    "        )\n",
    "    )\n",
    "    set_slippage(\n",
    "        us_equities=slippage.VolumeShareSlippage(\n",
    "            volume_limit=0.0025, \n",
    "            price_impact=0.01\n",
    "        )\n",
    "    )\n",
    "    # set_benchmark(symbol(\"SPY\")) # free data don't have SPY, so manually download and pass it to zipline"
   ]
  },
  {
   "cell_type": "code",
   "execution_count": null,
   "metadata": {},
   "outputs": [],
   "source": [
    "start = pd.Timestamp(\"2016-01-01\")\n",
    "end = pd.Timestamp(\"2017-12-31\")\n",
    "\n",
    "import pandas_datareader.data as web\n",
    "sp500 = web.DataReader('SP500', 'fred', start, end).SP500\n",
    "benchmark_returns = sp500.pct_change()"
   ]
  },
  {
   "cell_type": "markdown",
   "metadata": {},
   "source": [
    "### Execute trades\n",
    "\n",
    " ##### We loop thru every ticker and if its tradeable and there are no open orders, then we order target percent and zipline rebalances"
   ]
  },
  {
   "cell_type": "code",
   "execution_count": null,
   "metadata": {},
   "outputs": [],
   "source": [
    "def exec_trades(data, assets, weights):\n",
    "    # Loop through every asset...\n",
    "    for asset in assets:\n",
    "        # ...if the asset is tradeable and there are no open orders...\n",
    "        print(asset)\n",
    "        if data.can_trade(asset) and asset in weights.index and not get_open_orders(asset):\n",
    "            # ...execute the order against the target percent\n",
    "            target_percent = weights.at[asset, \"weights\"]\n",
    "            order_target_percent(asset, target_percent)"
   ]
  },
  {
   "cell_type": "code",
   "execution_count": null,
   "metadata": {},
   "outputs": [],
   "source": [
    "def rebalance(context, data):\n",
    "    \n",
    "    assets = context.assets\n",
    "    \n",
    "    prices = data.history(\n",
    "        assets,\n",
    "        \"price\",\n",
    "        bar_count=bar_count,\n",
    "        frequency=\"1d\"\n",
    "    )\n",
    "    \n",
    "    returns = prices.pct_change()[1:]\n",
    "    returns.dropna(how=\"any\", axis=1, inplace=True)\n",
    "    returns = returns.loc[:, (returns != 0).any(axis=0)]\n",
    "    returns = returns.loc[:, np.isfinite(returns).all(axis=0)]\n",
    "    \n",
    "    port = rp.Portfolio(returns=returns)\n",
    "    port.assets_stats(method_mu=method_mu, method_cov=method_cov, d=0.94)\n",
    "    port.lowerret = lower_ret\n",
    "    \n",
    "    # try:\n",
    "    weights = port.rp_optimization(\n",
    "        model=\"Classic\",\n",
    "        rm=\"MV\",\n",
    "        hist=True,\n",
    "        rf=0.05,\n",
    "        b=None\n",
    "    )\n",
    "    # except:\n",
    "    #     print(prices)\n",
    "\n",
    "    print(\n",
    "        f\"{get_datetime().date()} {context.portfolio.portfolio_value}\"\n",
    "    )\n",
    "\n",
    "    exec_trades(data, assets=assets, weights=weights)"
   ]
  },
  {
   "cell_type": "code",
   "execution_count": null,
   "metadata": {},
   "outputs": [],
   "source": [
    "def analyze(context, perf):\n",
    "    perf.portfolio_value.plot()"
   ]
  },
  {
   "cell_type": "markdown",
   "metadata": {},
   "source": [
    "### Run the backtest"
   ]
  },
  {
   "cell_type": "code",
   "execution_count": null,
   "metadata": {},
   "outputs": [],
   "source": [
    "perf = run_algorithm(\n",
    "    start=pd.Timestamp(\"2016-01-01\"),\n",
    "    end=pd.Timestamp(\"2017-12-31\"),\n",
    "    initialize=initialize,\n",
    "    analyze=analyze,\n",
    "    capital_base=100_000,\n",
    "    bundle=bundle,\n",
    "    benchmark_returns=benchmark_returns,\n",
    ")"
   ]
  },
  {
   "cell_type": "code",
   "execution_count": null,
   "metadata": {},
   "outputs": [],
   "source": [
    "perf.alpha.plot()"
   ]
  },
  {
   "cell_type": "code",
   "execution_count": null,
   "metadata": {},
   "outputs": [],
   "source": [
    "returns, positions, transactions = pf.utils.extract_rets_pos_txn_from_zipline(perf)"
   ]
  },
  {
   "cell_type": "code",
   "execution_count": null,
   "metadata": {},
   "outputs": [],
   "source": [
    "pf.create_full_tear_sheet(returns, positions, transactions)"
   ]
  }
 ],
 "metadata": {
  "kernelspec": {
   "display_name": "quant-stack",
   "language": "python",
   "name": "python3"
  },
  "language_info": {
   "codemirror_mode": {
    "name": "ipython",
    "version": 3
   },
   "file_extension": ".py",
   "mimetype": "text/x-python",
   "name": "python",
   "nbconvert_exporter": "python",
   "pygments_lexer": "ipython3",
   "version": "3.9.18"
  }
 },
 "nbformat": 4,
 "nbformat_minor": 2
}
